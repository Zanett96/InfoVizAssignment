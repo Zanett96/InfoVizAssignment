{
 "cells": [
  {
   "cell_type": "code",
   "execution_count": 131,
   "metadata": {},
   "outputs": [],
   "source": [
    "# Libraries\n",
    "import plotly\n",
    "import dash\n",
    "import numpy as np\n",
    "import pandas as pd\n",
    "from jupyter_dash import JupyterDash\n",
    "import dash_core_components as dcc\n",
    "import dash_html_components as html\n",
    "import plotly.express as px\n",
    "from dash.dependencies import Input, Output\n",
    "from pathlib import Path"
   ]
  },
  {
   "cell_type": "code",
   "execution_count": 2,
   "metadata": {},
   "outputs": [],
   "source": [
    "# Load the 4 datasets using the .read_csv function from pandas, sep = '\\t' for tsv files, don't load the header\n",
    "# The files are assumed to be in the 'Data' folder\n",
    "countries = pd.read_csv('Data/countries.tsv', sep='\\t', header=0)\n",
    "missions = pd.read_csv('Data/missions.tsv', sep='\\t', header=0)\n",
    "places = pd.read_csv('Data/places.tsv', sep='\\t', header=0)\n",
    "users = pd.read_csv('Data/users.tsv', sep='\\t', header=0)"
   ]
  },
  {
   "cell_type": "code",
   "execution_count": 137,
   "metadata": {},
   "outputs": [],
   "source": [
    "def get_other(co2):\n",
    "    \"\"\"\n",
    "    Input: co2 value for trip\n",
    "    Output: 'approximated' mode of travel\n",
    "    Reformat the mode when 'other' is used as a placeholder.\n",
    "    We use the co2 to get the mode so we can save one lookup in the 'places' table\n",
    "    \"\"\"\n",
    "    if co2 == 0.075:\n",
    "        mode = \"public\"\n",
    "    elif co2 == 0.20033:\n",
    "        mode = \"car\"\n",
    "    elif co2 == 0.01214:\n",
    "        mode = \"train\"\n",
    "    else:\n",
    "        mode = \"plane\"\n",
    "    return mode\n",
    "\n",
    "def get_emission(placeid, co2km):\n",
    "    \"\"\"\n",
    "    Input: Place ID, Co2 per km\n",
    "    Output: total emission of the trip\n",
    "    Here we retrieve from the places dataframe the distance and we\n",
    "    return the total emissions as km*co2\n",
    "    \"\"\"\n",
    "    for index, row in places.iterrows():\n",
    "        if(places.at[index, '#place_id']) == placeid:\n",
    "            return places.at[index, 'distance']*co2km\n",
    "    print('Distance not found!')\n",
    "    return 0\n",
    "\n",
    "\n",
    "def get_region(userid):\n",
    "    \"\"\"\n",
    "    Input: userID\n",
    "    Output: Region of the user\n",
    "    Here we retrieve from the users dataframe the region\n",
    "    of the user #user_id\n",
    "    \"\"\"\n",
    "    for index, row in users.iterrows():\n",
    "        if(users.at[index, '#user_id']) == userid:\n",
    "            return users.at[index, 'region']\n",
    "    print('Region not found!')\n",
    "    return 0\n",
    "\n",
    "def get_dataset(missions):\n",
    "    \"\"\"\n",
    "    Input: Missions dataset\n",
    "    Output: total emissions and regions for each users\n",
    "    Here we use the previously built methods to retrieve the\n",
    "    total emissions and the regions\n",
    "    \"\"\"\n",
    "    emissions, regions = [], []\n",
    "    \n",
    "    for index, row in missions.iterrows():\n",
    "        # Retrieve total emissions\n",
    "        emissions.append(get_emission(missions.at[index, 'place_id'], missions.at[index, 'co2']))\n",
    "        # Retrieve Houses for users\n",
    "        regions.append(get_region(missions.at[index, 'user_id']))\n",
    "        # Retrieve mode of travel when 'other' is selected -- design chioce explained in report, uncomment if displaying 'other'\n",
    "        if(missions.at[index, 'mode'] == 'other'): \n",
    "            missions.at[index, 'mode'] = get_other(missions.at[index, 'co2']) \n",
    "            \n",
    "    return emissions, regions\n",
    "\n",
    "def build_dataset(missions):\n",
    "    \"\"\"\n",
    "    Input: Missions dataset\n",
    "    Output: updated missions dataframe\n",
    "    Here we build the updated dataset and we save it on disk \n",
    "    \"\"\"\n",
    "    # Retrieve the total emissions and users regions and add them to the missions dataset\n",
    "    emissions, regions = get_dataset(missions)\n",
    "    missions['emissions'] = emissions\n",
    "    missions['regions'] = regions\n",
    "    \n",
    "    # Sort the dataset by date -- needed by the visualization\n",
    "    #missions['date'] = pd.to_datetime(missions.date) \n",
    "    #missions = missions.sort_values(by='date')\n",
    "    \n",
    "    # save the dataset\n",
    "    #missions.to_csv (r'Data/missions.csv', index = False, header=True)\n",
    "    return missions"
   ]
  },
  {
   "cell_type": "code",
   "execution_count": null,
   "metadata": {},
   "outputs": [],
   "source": [
    "p = Path('Data/missions.csv')\n",
    "\n",
    "if p.is_file(): # If the updated dataset exits\n",
    "    countries = pd.read_csv('Data/missions.csv', sep='\\t', header=0)\n",
    "    \n",
    "else: # If the dataset must be generated\n",
    "    missions = build_dataset(missions)"
   ]
  },
  {
   "cell_type": "code",
   "execution_count": 135,
   "metadata": {},
   "outputs": [
    {
     "data": {
      "text/html": [
       "\n",
       "        <iframe\n",
       "            width=\"100%\"\n",
       "            height=\"650\"\n",
       "            src=\"http://127.0.0.1:8050/\"\n",
       "            frameborder=\"0\"\n",
       "            allowfullscreen\n",
       "        ></iframe>\n",
       "        "
      ],
      "text/plain": [
       "<IPython.lib.display.IFrame at 0x28fb8456608>"
      ]
     },
     "metadata": {},
     "output_type": "display_data"
    }
   ],
   "source": [
    "# Go to http://127.0.0.1:8050/ in the browser to run the visualization\n",
    "# or run it in JupyterNotebook using Jupyter Dash.\n",
    "modes = ['public', 'car', 'train', 'plane'] # Transportation modes\n",
    "\n",
    "external_stylesheets = ['https://codepen.io/chriddyp/pen/bWLwgP.css'] # Modify text Css\n",
    "\n",
    "app = JupyterDash(__name__, external_stylesheets=external_stylesheets) #Uncomment if running on jupyter\n",
    "#app = dash.Dash(__name__, external_stylesheets=external_stylesheets) #Uncomment if running normally\n",
    "\n",
    "# Layout of the visualization\n",
    "app.layout = html.Div([\n",
    "        html.H1('InfoViz assignment: Visualizing emission per region'), # Title\n",
    "        # Build a checklist for each transportation mode\n",
    "        dcc.Checklist(\n",
    "            id=\"transports\",\n",
    "            options=[{\"label\": x, \"value\": x} \n",
    "                     for x in modes],\n",
    "            value=modes[0:], # All selected at the init\n",
    "            labelStyle={'display': 'inline-block'} # Display in a single line\n",
    "        ),\n",
    "        dcc.Graph(id=\"emission-chart\"), \n",
    "        ])\n",
    "\n",
    "# Interactivity of the visualization: takes as input the trasportation modes and output the graph\n",
    "@app.callback(Output(\"emission-chart\", \"figure\"), [Input(\"transports\", \"value\")])\n",
    "\n",
    "def update_line_chart(modes):\n",
    "    \n",
    "    # Fixed color palette\n",
    "    color_discrete_map = {'North': '#D55E00', 'Reach': '#0072B2', 'Dorne': '#CC79A7', 'Westerlands': '#E69F00', 'Riverlands': '#009E73', 'Vale': '#19D3F3','Crownlands': '#F0E442'}\n",
    "    # Gets all the rows from the selected modes in the checklist\n",
    "    mask = missions['mode'].isin(modes)\n",
    "    # Get the cumulative sums of the emissions for the visualization\n",
    "    missions['cumsum'] = missions[mask].groupby('regions')['emissions'].transform(pd.Series.cumsum)\n",
    "    \n",
    "    #Display the visualization. X axis is the date, Y axis is the cumulative emissions. We rename the labels and apply a fixed color palette\n",
    "    fig = px.line(missions[mask], x='date', y=missions[mask]['cumsum'], color='regions', labels={'date': 'Date', 'y':'Total emissions'}, color_discrete_map=color_discrete_map)\n",
    "    #fig = px.line(missions[mask], x='date', y=missions[mask]['emissions'].cumsum(),  color='regions', labels={'x': 'Date', 'y':'Total emissions'})\n",
    "    return fig\n",
    "\n",
    "\n",
    "app.run_server(mode='inline') #Uncomment if running on jupyter\n",
    "#app.run_server(debug=True) # Uncomment if running normally"
   ]
  },
  {
   "cell_type": "markdown",
   "metadata": {},
   "source": [
    "How to approximate 'other' in the visualization? -> use the approximation for emissions\n",
    "Problem with line all equals! the .cumsum() not working as expected! -> solved by applying a groupy beforehand\n",
    "Problem with date: some dates were showing in the 'future' -> solved by ordering the dates\n",
    "colors always changing! -> solved by using a fixed set of colors\n",
    "choice of color? -> used the colorblind palette by Masataka Okabe and Kei Ito"
   ]
  },
  {
   "cell_type": "code",
   "execution_count": 76,
   "metadata": {},
   "outputs": [],
   "source": [
    "missions.to_csv (r'C:\\Users\\zanet\\Desktop\\missions.csv', index = False, header=True)"
   ]
  },
  {
   "cell_type": "code",
   "execution_count": 81,
   "metadata": {},
   "outputs": [
    {
     "data": {
      "text/plain": [
       "1            5.77864\n",
       "3          108.76398\n",
       "4          111.27696\n",
       "6          113.78994\n",
       "0          132.62096\n",
       "            ...     \n",
       "5611    319518.72474\n",
       "5609    319727.44590\n",
       "5610     69367.10124\n",
       "5614    319809.49066\n",
       "5613    199237.12405\n",
       "Name: emissions, Length: 5615, dtype: float64"
      ]
     },
     "execution_count": 81,
     "metadata": {},
     "output_type": "execute_result"
    }
   ],
   "source": [
    "missions.groupby('regions')['emissions'].cumsum()"
   ]
  },
  {
   "cell_type": "code",
   "execution_count": 83,
   "metadata": {},
   "outputs": [],
   "source": [
    "missions2 = missions.groupby('regions')"
   ]
  },
  {
   "cell_type": "code",
   "execution_count": 86,
   "metadata": {},
   "outputs": [
    {
     "data": {
      "text/plain": [
       "<pandas.core.groupby.generic.SeriesGroupBy object at 0x0000028FB8366588>"
      ]
     },
     "execution_count": 86,
     "metadata": {},
     "output_type": "execute_result"
    }
   ],
   "source": [
    "missions2['emissions']"
   ]
  },
  {
   "cell_type": "code",
   "execution_count": null,
   "metadata": {},
   "outputs": [],
   "source": []
  }
 ],
 "metadata": {
  "kernelspec": {
   "display_name": "Python 3",
   "language": "python",
   "name": "python3"
  },
  "language_info": {
   "codemirror_mode": {
    "name": "ipython",
    "version": 3
   },
   "file_extension": ".py",
   "mimetype": "text/x-python",
   "name": "python",
   "nbconvert_exporter": "python",
   "pygments_lexer": "ipython3",
   "version": "3.7.4"
  }
 },
 "nbformat": 4,
 "nbformat_minor": 4
}
